{
 "cells": [
  {
   "cell_type": "code",
   "execution_count": 1,
   "id": "e4407619-9c43-494a-baaa-06306f64a3a6",
   "metadata": {},
   "outputs": [],
   "source": [
    "%matplotlib inline\n",
    "import numpy as np\n",
    "import pandas as pd\n",
    "import matplotlib.pyplot as plt\n",
    "import seaborn as sns"
   ]
  },
  {
   "cell_type": "markdown",
   "id": "a1d18ec0-e8c3-4a51-9967-9ae5602303be",
   "metadata": {},
   "source": [
    "### напишіть функцію гіпотези лінійної регресії у векторному вигляді"
   ]
  },
  {
   "cell_type": "code",
   "execution_count": null,
   "id": "1fd0e9af-0f71-43ee-8fd1-803914a97010",
   "metadata": {},
   "outputs": [],
   "source": []
  },
  {
   "cell_type": "markdown",
   "id": "3f268e14-5931-4fb9-9815-73fdb4540a01",
   "metadata": {},
   "source": [
    "### створіть функцію для обчислення функції втрат у векторному вигляді"
   ]
  },
  {
   "cell_type": "code",
   "execution_count": null,
   "id": "038e9a76-dda1-4b2d-9393-0289e010cf42",
   "metadata": {},
   "outputs": [],
   "source": []
  },
  {
   "cell_type": "markdown",
   "id": "3cddb8b3-5d3e-44c3-a538-f0e344c68df4",
   "metadata": {},
   "source": [
    "### реалізуйте один крок градієнтного спуску"
   ]
  },
  {
   "cell_type": "code",
   "execution_count": null,
   "id": "c25c909a-dec5-4d77-9aa5-e0366827936d",
   "metadata": {},
   "outputs": [],
   "source": []
  },
  {
   "cell_type": "markdown",
   "id": "b3a9ce31-98bf-465c-ad0f-393feb213e92",
   "metadata": {},
   "source": [
    "### знайдіть найкращі параметри $\\vec{w}$ для датасету прогнозуючу ціну на будинок залежно від площі, кількості ванних кімнат та кількості спалень"
   ]
  },
  {
   "cell_type": "code",
   "execution_count": null,
   "id": "5ee9e364-0d91-4fba-be7f-ff997e87480d",
   "metadata": {},
   "outputs": [],
   "source": []
  },
  {
   "cell_type": "markdown",
   "id": "d600a09b-8224-43ba-a7d2-04b64568ee41",
   "metadata": {},
   "source": [
    "### знайдіть ці ж параметри за допомогою аналітичного рішення"
   ]
  },
  {
   "cell_type": "code",
   "execution_count": null,
   "id": "655afb42-28c8-407a-9d79-276a0b41d2dc",
   "metadata": {},
   "outputs": [],
   "source": []
  },
  {
   "cell_type": "markdown",
   "id": "4e717792-e115-4710-bfd3-355b7c858718",
   "metadata": {},
   "source": [
    "### порівняйте отримані результати"
   ]
  },
  {
   "cell_type": "code",
   "execution_count": null,
   "id": "80a2ed5b-df8c-4fff-976a-60ce069a6714",
   "metadata": {},
   "outputs": [],
   "source": []
  },
  {
   "cell_type": "code",
   "execution_count": null,
   "id": "72dfc0a9-10d1-47d2-90b1-e54053cac55f",
   "metadata": {},
   "outputs": [],
   "source": []
  },
  {
   "cell_type": "code",
   "execution_count": null,
   "id": "15b374a9-34b9-43c1-a0bf-fb6b84ebd5dd",
   "metadata": {},
   "outputs": [],
   "source": []
  },
  {
   "cell_type": "code",
   "execution_count": null,
   "id": "704c9d66-bc7e-49a1-b665-cffff99008f6",
   "metadata": {},
   "outputs": [],
   "source": []
  },
  {
   "cell_type": "code",
   "execution_count": null,
   "id": "5ef488df-0489-4ad8-a49d-06c77b7e945c",
   "metadata": {},
   "outputs": [],
   "source": []
  },
  {
   "cell_type": "code",
   "execution_count": null,
   "id": "7d9f055d-76bc-423d-8bd3-10dd1a518000",
   "metadata": {},
   "outputs": [],
   "source": []
  },
  {
   "cell_type": "code",
   "execution_count": null,
   "id": "8a82c6f5-1b28-46de-bc00-5d834cb23276",
   "metadata": {},
   "outputs": [],
   "source": []
  },
  {
   "cell_type": "code",
   "execution_count": null,
   "id": "16cbcee9-a524-4e1e-b446-a19daa71410c",
   "metadata": {},
   "outputs": [],
   "source": []
  },
  {
   "cell_type": "code",
   "execution_count": null,
   "id": "0df7e900-a2b7-4588-a475-1fda2ac01e16",
   "metadata": {},
   "outputs": [],
   "source": []
  }
 ],
 "metadata": {
  "kernelspec": {
   "display_name": "Python 3 (ipykernel)",
   "language": "python",
   "name": "python3"
  },
  "language_info": {
   "codemirror_mode": {
    "name": "ipython",
    "version": 3
   },
   "file_extension": ".py",
   "mimetype": "text/x-python",
   "name": "python",
   "nbconvert_exporter": "python",
   "pygments_lexer": "ipython3",
   "version": "3.12.0"
  }
 },
 "nbformat": 4,
 "nbformat_minor": 5
}
