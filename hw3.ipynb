{
 "cells": [
  {
   "cell_type": "code",
   "execution_count": 1,
   "id": "e4407619-9c43-494a-baaa-06306f64a3a6",
   "metadata": {},
   "outputs": [],
   "source": [
    "%matplotlib inline\n",
    "import numpy as np\n",
    "import pandas as pd\n",
    "import matplotlib.pyplot as plt\n",
    "import seaborn as sns"
   ]
  },
  {
   "cell_type": "markdown",
   "id": "a1d18ec0-e8c3-4a51-9967-9ae5602303be",
   "metadata": {},
   "source": [
    "### 1. напишіть функцію гіпотези лінійної регресії у векторному вигляді:"
   ]
  },
  {
   "cell_type": "markdown",
   "id": "af06a9c3-9ec9-4179-afb3-da53b64325a4",
   "metadata": {},
   "source": [
    "#### гіпотеза лінійної регресії у векторному вигляді, це скалярний добуток вектору вагів на вектор ознак: h($\\vec{x}$) = $\\vec{w}$ ⋅ $\\vec{x}$"
   ]
  },
  {
   "cell_type": "code",
   "execution_count": 18,
   "id": "ed3b5bcf-9873-40b6-85ed-ea91f3d7b73e",
   "metadata": {},
   "outputs": [],
   "source": [
    "def h(X, w):\n",
    "    return np.dot(X, w)"
   ]
  },
  {
   "cell_type": "markdown",
   "id": "3f268e14-5931-4fb9-9815-73fdb4540a01",
   "metadata": {},
   "source": [
    "### 2. створіть функцію для обчислення функції втрат у векторному вигляді:"
   ]
  },
  {
   "cell_type": "code",
   "execution_count": 3,
   "id": "038e9a76-dda1-4b2d-9393-0289e010cf42",
   "metadata": {},
   "outputs": [],
   "source": [
    "def loss_function(X, y, w):\n",
    "    return np.square(h(X, w) - y).sum() / (2 * len(X))"
   ]
  },
  {
   "cell_type": "markdown",
   "id": "3cddb8b3-5d3e-44c3-a538-f0e344c68df4",
   "metadata": {},
   "source": [
    "### 3. реалізуйте один крок градієнтного спуску:"
   ]
  },
  {
   "cell_type": "code",
   "execution_count": 16,
   "id": "d4c16b61-f3bc-4619-89a3-1ab161dbb5a2",
   "metadata": {},
   "outputs": [],
   "source": [
    "def grad_w(X, y, w):\n",
    "    m = len(X)\n",
    "    return np.dot(X.T, (h(X, w) - y)) / m"
   ]
  },
  {
   "cell_type": "code",
   "execution_count": 15,
   "id": "c25c909a-dec5-4d77-9aa5-e0366827936d",
   "metadata": {},
   "outputs": [],
   "source": [
    "def grad_step(w, grad_w, learning_rate=0.001):\n",
    "    w = w - learning_rate*grad_w\n",
    "    return w"
   ]
  },
  {
   "cell_type": "code",
   "execution_count": 14,
   "id": "f87a5614-cdb7-404a-a4e0-10649e5fe2bd",
   "metadata": {},
   "outputs": [],
   "source": [
    "def grad_descent(X, y, w, num_iter=10000, learning_rate=0.001, epsilon=0.0000001):\n",
    "\n",
    "    loss = loss_function(X, y, w)\n",
    "    loss_history = [loss]\n",
    "\n",
    "    for i in range(num_iter):\n",
    "        w_best = None\n",
    "        d_w = grad_w(X, y, w)\n",
    "        w = grad_step(w, d_w, learning_rate=learning_rate)\n",
    "\n",
    "        loss = loss_function(X, y, w)\n",
    "        if abs(loss - loss_history[-1]) < epsilon:\n",
    "            loss_history.append(loss)\n",
    "            w_best = d_w\n",
    "            break\n",
    "        \n",
    "        loss_history.append(loss)\n",
    "        \n",
    "    return w, w_best, loss_history"
   ]
  },
  {
   "cell_type": "markdown",
   "id": "b3a9ce31-98bf-465c-ad0f-393feb213e92",
   "metadata": {},
   "source": [
    "### 4. знайдіть найкращі параметри $\\vec{w}$ для датасету прогнозуючи ціну на будинок залежно від площі, кількості ванних кімнат та кількості спалень:"
   ]
  },
  {
   "cell_type": "code",
   "execution_count": 9,
   "id": "4b1ca13c-463d-462d-8874-f11f4f3b29b9",
   "metadata": {},
   "outputs": [],
   "source": [
    "df = pd.read_csv(\"Housing.csv\")"
   ]
  },
  {
   "cell_type": "code",
   "execution_count": 10,
   "id": "5ee9e364-0d91-4fba-be7f-ff997e87480d",
   "metadata": {},
   "outputs": [],
   "source": [
    "def normalization(data):\n",
    "    return (data - data.mean())/data.std()"
   ]
  },
  {
   "cell_type": "code",
   "execution_count": 11,
   "id": "8d4e4785-6837-4f20-b188-3f5cb40fe876",
   "metadata": {},
   "outputs": [],
   "source": [
    "norm_df = pd.DataFrame()\n",
    "\n",
    "norm_df[\"price\"] = normalization(df[\"price\"])\n",
    "norm_df[\"area\"] = normalization(df[\"area\"])\n",
    "norm_df[\"bathrooms\"] = normalization(df[\"bathrooms\"])\n",
    "norm_df[\"bedrooms\"] = normalization(df[\"bedrooms\"])"
   ]
  },
  {
   "cell_type": "code",
   "execution_count": 12,
   "id": "a784a3c1-b322-4c51-8836-21a1463a3a7e",
   "metadata": {},
   "outputs": [],
   "source": [
    "X = norm_df[['area', 'bathrooms', 'bedrooms']].values\n",
    "X = np.hstack((np.ones((X.shape[0], 1)) , X))\n",
    "y = norm_df[\"price\"].values.reshape(-1, 1)\n",
    "\n",
    "n = X.shape[1]\n",
    "w = np.linspace(0, 0, n).reshape((n, 1))"
   ]
  },
  {
   "cell_type": "code",
   "execution_count": 20,
   "id": "677a1912-6bb9-4ce9-8b56-0d5187e86407",
   "metadata": {},
   "outputs": [
    {
     "name": "stdout",
     "output_type": "stream",
     "text": [
      "The best values w:  [-1.10818592e-16 -6.74033514e-03 -4.72771123e-03  5.66844067e-03]\n",
      "The best values of loss function:  0.25605342833253486\n"
     ]
    }
   ],
   "source": [
    "w, w_best, loss_history = grad_descent(X, y, w, 10000, learning_rate=0.001)\n",
    "loss_best = loss_history[-1]\n",
    "print('The best values w: ', w_best.flatten())\n",
    "print('The best values of loss function: ', loss_best)"
   ]
  },
  {
   "cell_type": "markdown",
   "id": "d600a09b-8224-43ba-a7d2-04b64568ee41",
   "metadata": {},
   "source": [
    "### 5. знайдіть ці ж параметри за допомогою аналітичного рішення:"
   ]
  },
  {
   "cell_type": "code",
   "execution_count": 21,
   "id": "655afb42-28c8-407a-9d79-276a0b41d2dc",
   "metadata": {},
   "outputs": [
    {
     "name": "stdout",
     "output_type": "stream",
     "text": [
      "The best analitical w:  [-1.50487262e-16  4.39452085e-01  3.72344423e-01  1.60528660e-01]\n",
      "The best analitical loss function:  0.25598790065321403\n"
     ]
    }
   ],
   "source": [
    "analitical_w = np.dot(np.dot(np.linalg.inv(np.dot(X.T, X)), X.T), y)\n",
    "analitical_loss = loss_function(X, y, analitical_w)\n",
    "print('The best analitical w: ', analitical_w.flatten())\n",
    "print('The best analitical loss function: ', analitical_loss)"
   ]
  },
  {
   "cell_type": "markdown",
   "id": "4e717792-e115-4710-bfd3-355b7c858718",
   "metadata": {},
   "source": [
    "### 6. порівняйте отримані результати:"
   ]
  },
  {
   "cell_type": "code",
   "execution_count": 29,
   "id": "80a2ed5b-df8c-4fff-976a-60ce069a6714",
   "metadata": {},
   "outputs": [
    {
     "name": "stdout",
     "output_type": "stream",
     "text": [
      " значення best_values_of_loss_function (0.2561) більше, ніж значення best_analitical_loss_function (0.256)\n"
     ]
    }
   ],
   "source": [
    "best_values_of_loss_function = loss_best\n",
    "best_analitical_loss_function = analitical_loss\n",
    "a = best_values_of_loss_function \n",
    "b = best_analitical_loss_function\n",
    "\n",
    "if a > b:\n",
    "    print(f\" значення best_values_of_loss_function ({best_values_of_loss_function.round(4)}) більше, ніж значення best_analitical_loss_function ({best_analitical_loss_function.round(4)})\")\n",
    "elif a < b:\n",
    "    print(f\" значення best_values_of_loss_function ({best_values_of_loss_function.round(4)}) меньше, ніж значення best_analitical_loss_function ({best_analitical_loss_function.round(4)})\")\n",
    "else:\n",
    "    print(f\" значення best_values_of_loss_function ({best_values_of_loss_function.round(4)}) дорівнює значенню best_analitical_loss_function ({best_analitical_loss_function.round(4)})\")\n"
   ]
  }
 ],
 "metadata": {
  "kernelspec": {
   "display_name": "Python 3 (ipykernel)",
   "language": "python",
   "name": "python3"
  },
  "language_info": {
   "codemirror_mode": {
    "name": "ipython",
    "version": 3
   },
   "file_extension": ".py",
   "mimetype": "text/x-python",
   "name": "python",
   "nbconvert_exporter": "python",
   "pygments_lexer": "ipython3",
   "version": "3.11.7"
  }
 },
 "nbformat": 4,
 "nbformat_minor": 5
}
